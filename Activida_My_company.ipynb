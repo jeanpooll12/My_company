{
  "nbformat": 4,
  "nbformat_minor": 0,
  "metadata": {
    "colab": {
      "provenance": [],
      "authorship_tag": "ABX9TyNsQEUZt8i2hufqaIjDdgDS",
      "include_colab_link": true
    },
    "kernelspec": {
      "name": "python3",
      "display_name": "Python 3"
    },
    "language_info": {
      "name": "python"
    }
  },
  "cells": [
    {
      "cell_type": "markdown",
      "metadata": {
        "id": "view-in-github",
        "colab_type": "text"
      },
      "source": [
        "<a href=\"https://colab.research.google.com/github/jeanpooll12/My_company/blob/main/Activida_My_company.ipynb\" target=\"_parent\"><img src=\"https://colab.research.google.com/assets/colab-badge.svg\" alt=\"Open In Colab\"/></a>"
      ]
    },
    {
      "cell_type": "markdown",
      "source": [
        "Actividad Employee\n",
        "\n",
        "Fecha: 03 de Marzo de 2024\n",
        "\n",
        "Presentado por: Jean Pooll Noriega Navas\n",
        "\n",
        "Email:  jean.noriegan@upb.edu.co\n",
        "\n",
        "ID: 000552072"
      ],
      "metadata": {
        "id": "19TRrCV6Yvgv"
      }
    },
    {
      "cell_type": "code",
      "execution_count": null,
      "metadata": {
        "colab": {
          "base_uri": "https://localhost:8080/"
        },
        "id": "D9IgRE5QPbKt",
        "outputId": "d0a49973-3041-47f6-b02c-df662a2a144c"
      },
      "outputs": [
        {
          "output_type": "stream",
          "name": "stdout",
          "text": [
            "Empleado con id: 1 agregado exitosamente a la reunion\n",
            "Empleado con id: 2 agregado exitosamente a la reunion\n",
            "Empleado con id: 3 agregado exitosamente a la reunion\n",
            "Empleado con id: 4 agregado exitosamente a la reunion\n",
            "# Asistentes a la reunión: 4\n",
            "\n",
            "Mi nombre es: Mateo y trabajo para robocnick\n",
            "Mi id es {1}\n",
            "\n",
            "Mi nombre es: Mario y trabajo para robocnick\n",
            "Mi id es {2}\n",
            "\n",
            "Mi nombre es: Bruno y trabajo para robocnick\n",
            "Mi id es {3}\n",
            "Yo soy un administrador\n",
            "Usuario: 3; Rol: Administrador\n",
            "\n",
            "Mi nombre es: Homero y trabajo para robocnick\n",
            "Mi id es {4}\n",
            "Yo soy un administrador\n",
            "Yo soy el jefe\n",
            "Usuario: 4; Rol: Administrador\n"
          ]
        }
      ],
      "source": [
        "from abc import ABC, abstractmethod\n",
        "\n",
        "class AbstractEmployee(ABC):\n",
        "    def __init__(self):\n",
        "        self.id = AbstractEmployee.new_id\n",
        "        AbstractEmployee.new_id += 1\n",
        "    def say_id(self):\n",
        "        pass\n",
        "\n",
        "class Employee(AbstractEmployee):\n",
        "    new_id = 1\n",
        "\n",
        "    def __init__(self):\n",
        "        self.id = Employee.new_id\n",
        "        Employee.new_id += 1\n",
        "        self._name = None\n",
        "        self.__company = 'robocnick'\n",
        "\n",
        "    def say_id(self):\n",
        "        print(f'Mi id es', {self.id})\n",
        "\n",
        "    def get_name(self):\n",
        "        return self._name\n",
        "\n",
        "    def set_name(self, name):\n",
        "        self._name = name\n",
        "\n",
        "    def del_name(self):\n",
        "        self._name\n",
        "\n",
        "class User:\n",
        "    def __init__(self, username, role):\n",
        "        self.username = self.id\n",
        "        self.role = role\n",
        "\n",
        "    def say_user_info(self):\n",
        "        print(f'Usuario: {self.username}; Rol: {self.role}')\n",
        "\n",
        "class Admin(Employee, User):\n",
        "    def __init__(self, username):\n",
        "        Employee.__init__(self)\n",
        "        User.__init__(self, username, 'Administrador')\n",
        "\n",
        "    def say_id(self):\n",
        "        super().say_id()\n",
        "        print(\"Yo soy un administrador\")\n",
        "\n",
        "class Manager(Admin):\n",
        "    def __init__(self, username):\n",
        "        super().__init__(username)\n",
        "\n",
        "    def say_id(self):\n",
        "        super().say_id()\n",
        "        print(\"Yo soy el jefe\")\n",
        "\n",
        "class Meeting:\n",
        "    def __init__(self):\n",
        "        self.attendees = []\n",
        "\n",
        "    def __add__(self, employee):\n",
        "        if isinstance(employee, Employee):\n",
        "            self.attendees.append(employee)\n",
        "            print(f\"Empleado con id: {employee.id} agregado exitosamente a la reunion\")\n",
        "        return self\n",
        "\n",
        "    def __len__(self):\n",
        "        return len(self.attendees)\n",
        "\n",
        "e1 = Employee()\n",
        "e2 = Employee()\n",
        "e3 = Admin(\"Bruno\")\n",
        "e4 = Manager(\"Homero\")\n",
        "\n",
        "m1 = Meeting()\n",
        "m1 + e1\n",
        "m1 + e2\n",
        "m1 + e3\n",
        "m1 + e4\n",
        "print(f\"# Asistentes a la reunión: {len(m1)}\")\n",
        "e1.set_name(\"Mateo\")\n",
        "e2.set_name(\"Mario\")\n",
        "e3.set_name(\"Bruno\")\n",
        "e4.set_name(\"Homero\")\n",
        "for e in m1.attendees:\n",
        "  print(f\"\\nMi nombre es: {e.get_name()} y trabajo para {e._Employee__company}\")\n",
        "  e.say_id()\n",
        "  try:\n",
        "    e.say_user_info()\n",
        "  except AttributeError:\n",
        "    continue\n",
        "e1.del_name()"
      ]
    }
  ]
}