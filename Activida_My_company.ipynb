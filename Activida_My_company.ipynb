{
  "nbformat": 4,
  "nbformat_minor": 0,
  "metadata": {
    "colab": {
      "provenance": [],
      "authorship_tag": "ABX9TyPNxsVUoKhhusLdO01IOJzR",
      "include_colab_link": true
    },
    "kernelspec": {
      "name": "python3",
      "display_name": "Python 3"
    },
    "language_info": {
      "name": "python"
    }
  },
  "cells": [
    {
      "cell_type": "markdown",
      "metadata": {
        "id": "view-in-github",
        "colab_type": "text"
      },
      "source": [
        "<a href=\"https://colab.research.google.com/github/jeanpooll12/My_company/blob/main/Activida_My_company.ipynb\" target=\"_parent\"><img src=\"https://colab.research.google.com/assets/colab-badge.svg\" alt=\"Open In Colab\"/></a>"
      ]
    },
    {
      "cell_type": "code",
      "execution_count": 4,
      "metadata": {
        "colab": {
          "base_uri": "https://localhost:8080/"
        },
        "id": "D9IgRE5QPbKt",
        "outputId": "49d302c3-7610-4e5b-b607-bc41688a56bf"
      },
      "outputs": [
        {
          "output_type": "stream",
          "name": "stdout",
          "text": [
            "My id is {1}\n",
            "My id is {2}\n",
            "Yo soy un administrador\n",
            "My id is {3}\n",
            "yo soy un manager\n",
            "Yo soy un administrador\n",
            "My id is {4}\n",
            "Usuario: admin3, y su rol es: Admin\n",
            "My id is {1}\n",
            "Yo soy un administrador\n",
            "My id is {3}\n",
            "yo soy un manager\n",
            "Yo soy un administrador\n",
            "My id is {4}\n",
            "Empleado con id 1 agregado exitosamente.\n",
            "Empleado con id 2 agregado exitosamente.\n",
            "Empleado con id 3 agregado exitosamente.\n"
          ]
        }
      ],
      "source": [
        "from abc import ABC, abstractmethod\n",
        "\n",
        "class AbstractEmployee(ABC):\n",
        "    new_id = 1\n",
        "    def say_id(self):\n",
        "        pass\n",
        "\n",
        "class Employee(AbstractEmployee):\n",
        "    def __init__(self, company_name):\n",
        "        self.id = AbstractEmployee.new_id\n",
        "        AbstractEmployee.new_id += 1\n",
        "        self._company = company_name\n",
        "        self._name = None\n",
        "\n",
        "    def say_id(self):\n",
        "        print(f'My id is', {self.id})\n",
        "\n",
        "    def get_name(self):\n",
        "        return self._name\n",
        "\n",
        "    def set_name(self, name):\n",
        "        self._name = name\n",
        "\n",
        "    def del_name(self):\n",
        "        del self._name\n",
        "\n",
        "class User:\n",
        "    def __init__(self, username, role):\n",
        "        self.username = username\n",
        "        self.role = role\n",
        "\n",
        "    def say_user_info(self):\n",
        "        print(f\"Usuario: {self.username}, y su rol es: {self.role}\")\n",
        "\n",
        "class Admin(Employee, User):\n",
        "    def __init__(self):\n",
        "        Employee.__init__(self, \"MyCompany\")\n",
        "        User.__init__(self, f\"admin{self.id}\", \"Admin\")\n",
        "\n",
        "    def say_id(self):\n",
        "        print(\"Yo soy un administrador\")\n",
        "        Employee.say_id(self)\n",
        "\n",
        "class Manager(Admin):\n",
        "    def say_id(self):\n",
        "        print(\"yo soy un manager\")\n",
        "        Admin.say_id(self)\n",
        "\n",
        "class Meeting:\n",
        "    def __init__(self):\n",
        "        self.attendees = []\n",
        "\n",
        "    def __add__(self, employee):\n",
        "        self.attendees.append(employee)\n",
        "        print(f\"Empleado con id {employee.id} agregado exitosamente.\")\n",
        "\n",
        "    def __len__(self):\n",
        "        return len(self.attendees)\n",
        "\n",
        "e1 = Employee(\"MyCompany\")\n",
        "e2 = Employee(\"MyCompany\")\n",
        "e3 = Admin()\n",
        "e4 = Manager()\n",
        "\n",
        "e1.say_id()\n",
        "e2.say_id()\n",
        "e3.say_id()\n",
        "e4.say_id()\n",
        "\n",
        "e3.say_user_info()\n",
        "meeting = [e1, e3, e4]\n",
        "for attendee in meeting:\n",
        "    attendee.say_id()\n",
        "\n",
        "m1 = Meeting()\n",
        "m1 + e1\n",
        "m1 + e2\n",
        "m1 + e3"
      ]
    },
    {
      "cell_type": "markdown",
      "source": [
        "Presentado por Jean Pooll Noriega Navas (jean.noriegan@upb.edu.co)"
      ],
      "metadata": {
        "id": "_8MhR2mbQmG8"
      }
    }
  ]
}